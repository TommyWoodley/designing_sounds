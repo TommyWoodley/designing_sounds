{
 "cells": [
  {
   "cell_type": "code",
   "execution_count": 19,
   "metadata": {},
   "outputs": [
    {
     "ename": "AttributeError",
     "evalue": "'SquaredExponential' object has no attribute 'lengthscale'",
     "output_type": "error",
     "traceback": [
      "\u001b[1;31m---------------------------------------------------------------------------\u001b[0m",
      "\u001b[1;31mAttributeError\u001b[0m                            Traceback (most recent call last)",
      "Cell \u001b[1;32mIn [19], line 38\u001b[0m\n\u001b[0;32m     34\u001b[0m ax\u001b[39m.\u001b[39mscatter(X\u001b[39m.\u001b[39mdetach()\u001b[39m.\u001b[39mnumpy(), y\u001b[39m.\u001b[39mdetach()\u001b[39m.\u001b[39mnumpy())\n\u001b[0;32m     36\u001b[0m ax\u001b[39m.\u001b[39mplot(Xnew\u001b[39m.\u001b[39mdetach()\u001b[39m.\u001b[39mnumpy(), f_plot\u001b[39m.\u001b[39mdetach()\u001b[39m.\u001b[39mnumpy(), alpha\u001b[39m=\u001b[39m\u001b[39m0.5\u001b[39m, linewidth\u001b[39m=\u001b[39m\u001b[39m0.5\u001b[39m, color\u001b[39m=\u001b[39m\u001b[39m'\u001b[39m\u001b[39mtab:blue\u001b[39m\u001b[39m'\u001b[39m)\n\u001b[1;32m---> 38\u001b[0m gp_sampling\u001b[39m.\u001b[39;49mRandomFourierFeatures(SquaredExponential(), \u001b[39m3\u001b[39;49m, \u001b[39m100\u001b[39;49m)\n",
      "File \u001b[1;32mc:\\Users\\nitsu\\AppData\\Local\\Programs\\Python\\Python38\\lib\\site-packages\\botorch\\utils\\gp_sampling.py:129\u001b[0m, in \u001b[0;36mRandomFourierFeatures.__init__\u001b[1;34m(self, kernel, input_dim, num_rff_features, sample_shape)\u001b[0m\n\u001b[0;32m    125\u001b[0m \u001b[39mif\u001b[39;00m \u001b[39mnot\u001b[39;00m \u001b[39misinstance\u001b[39m(kernel, ScaleKernel):\n\u001b[0;32m    126\u001b[0m     base_kernel \u001b[39m=\u001b[39m kernel\n\u001b[0;32m    127\u001b[0m     outputscale \u001b[39m=\u001b[39m torch\u001b[39m.\u001b[39mtensor(\n\u001b[0;32m    128\u001b[0m         \u001b[39m1.0\u001b[39m,\n\u001b[1;32m--> 129\u001b[0m         dtype\u001b[39m=\u001b[39mbase_kernel\u001b[39m.\u001b[39;49mlengthscale\u001b[39m.\u001b[39mdtype,\n\u001b[0;32m    130\u001b[0m         device\u001b[39m=\u001b[39mbase_kernel\u001b[39m.\u001b[39mlengthscale\u001b[39m.\u001b[39mdevice,\n\u001b[0;32m    131\u001b[0m     )\n\u001b[0;32m    132\u001b[0m \u001b[39melse\u001b[39;00m:\n\u001b[0;32m    133\u001b[0m     base_kernel \u001b[39m=\u001b[39m kernel\u001b[39m.\u001b[39mbase_kernel\n",
      "\u001b[1;31mAttributeError\u001b[0m: 'SquaredExponential' object has no attribute 'lengthscale'"
     ]
    },
    {
     "data": {
      "image/png": "[encoded data removed]",
      "text/plain": [
       "<Figure size 700x300 with 1 Axes>"
      ]
     },
     "metadata": {},
     "output_type": "display_data"
    }
   ],
   "source": [
    "from botorch.utils import gp_sampling\n",
    "from botorch.models.gp_regression import SingleTaskGP\n",
    "import numpy as np\n",
    "import torch\n",
    "import matplotlib.pyplot as plt\n",
    "from gpytorch.kernels import Matern52, Periodic, SquaredExponential\n",
    "\n",
    "#kernel = Periodic(base_kernel=SquaredExponential())\n",
    "freq = 200\n",
    "lengthscale = 0.1\n",
    "#kernel.period.assign((1 / freq) if freq != 0 else 1)\n",
    "#kernel.base_kernel.lengthscales.assign(lengthscale)\n",
    "noise2 = 1e-3  # measurement noise variance\n",
    "\n",
    "xmin = 0.15  # range over which we observe\n",
    "xmax = 0.50  # the behavior of a function $f$\n",
    "X = torch.tensor(np.linspace(xmin, xmax, 3)[:, None], dtype=torch.float32)\n",
    "y = torch.tensor(np.array([[-1], [2], [3]]), dtype=torch.float32)\n",
    "\n",
    "model = SingleTaskGP(X, y)\n",
    "\n",
    "model = gp_sampling.GPDraw(model)\n",
    "\n",
    "\n",
    "Xnew = torch.tensor(np.linspace(0, 1, 1024)[:, None], dtype=torch.float32)\n",
    "\n",
    "f_plot = model.forward(Xnew)\n",
    "\n",
    "\n",
    "fig, ax = plt.subplots(figsize=(7, 3))\n",
    "\n",
    "\n",
    "# Plot some sample paths\n",
    "ax.scatter(X.detach().numpy(), y.detach().numpy())\n",
    "\n",
    "ax.plot(Xnew.detach().numpy(), f_plot.detach().numpy(), alpha=0.5, linewidth=0.5, color='tab:blue')\n",
    "\n",
    "gp_sampling.RandomFourierFeatures(SquaredExponential(), 3, 100)"
   ]
  },
  {
   "cell_type": "code",
   "execution_count": null,
   "metadata": {},
   "outputs": [],
   "source": []
  }
 ],
 "metadata": {
  "kernelspec": {
   "display_name": "Python 3.8.0 64-bit",
   "language": "python",
   "name": "python3"
  },
  "language_info": {
   "codemirror_mode": {
    "name": "ipython",
    "version": 3
   },
   "file_extension": ".py",
   "mimetype": "text/x-python",
   "name": "python",
   "nbconvert_exporter": "python",
   "pygments_lexer": "ipython3",
   "version": "3.8.0"
  },
  "orig_nbformat": 4,
  "vscode": {
   "interpreter": {
    "hash": "2cb146a186d6c831a50e1e3de7bf25b139200ad67d600ef2b785072cd349345d"
   }
  }
 },
 "nbformat": 4,
 "nbformat_minor": 2
}
