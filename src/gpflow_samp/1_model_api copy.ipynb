{
 "cells": [
  {
   "cell_type": "markdown",
   "metadata": {},
   "source": [
    "### Preamble\n",
    "- This notebook is overviews the provided API for using GPflow-based models\n",
    "- Available models inherit from the following base class (shown in simplified form here):\n",
    "```python\n",
    "class PathwiseGPModel(GPModel):\n",
    "    def __init__(self, *args, paths: AbstractSampler = None, **kwargs):\n",
    "        super().__init__(*args, **kwargs)\n",
    "        self._paths = paths\n",
    " \n",
    "    @abstractmethod\n",
    "    def generate_paths(self, *args, **kwargs) -> AbstractSampler:\n",
    "        raise NotImplementedError\n",
    "\n",
    "    def predict_f_samples(self, Xnew: TensorLike):\n",
    "        return self.paths(Xnew, **kwargs)\n",
    "```\n",
    "- These classes act **identical** to their GPflow counterparts, save for `predict_f_samples`\n",
    "- Below, we demonstrate some common usage patterns for the basic `<PathwiseGPR>` model class"
   ]
  },
  {
   "cell_type": "code",
   "execution_count": 6,
   "metadata": {},
   "outputs": [],
   "source": [
    "import numpy as np\n",
    "import tensorflow as tf\n",
    "\n",
    "from gpflow.config import default_float as floatx\n",
    "from gpflow.kernels import Matern52, Periodic, SquaredExponential\n",
    "from gpflow_sampling.models import PathwiseGPR\n",
    "import matplotlib.pyplot as plt\n",
    "tf.random.set_seed(1)"
   ]
  },
  {
   "cell_type": "markdown",
   "metadata": {},
   "source": [
    "### Generate toy data"
   ]
  },
  {
   "cell_type": "code",
   "execution_count": 7,
   "metadata": {},
   "outputs": [],
   "source": [
    "kernel = Matern52()\n",
    "freq = 200\n",
    "lengthscale = 0.1\n",
    "#kernel.period.assign((1 / freq) if freq != 0 else 1)\n",
    "#kernel.base_kernel.lengthscales.assign(lengthscale)\n",
    "noise2 = 1e-3  # measurement noise variance\n",
    "\n",
    "xmin = 0.15  # range over which we observe\n",
    "xmax = 0.50  # the behavior of a function $f$\n",
    "X = tf.convert_to_tensor(np.linspace(xmin, xmax, 10)[:, None])\n",
    "y = tf.convert_to_tensor(np.random.rand(10)[:, None], dtype=floatx())"
   ]
  },
  {
   "cell_type": "markdown",
   "metadata": {},
   "source": [
    "### Create model and predict moments"
   ]
  },
  {
   "cell_type": "code",
   "execution_count": 8,
   "metadata": {},
   "outputs": [],
   "source": [
    "model = PathwiseGPR(data=(X, y), kernel=kernel, noise_variance=noise2)\n",
    "Xnew = np.linspace(0, 1, 2024)[:, None]"
   ]
  },
  {
   "cell_type": "markdown",
   "metadata": {},
   "source": [
    "- The class's `generate_paths` method should return function draws (i.e. paths)\n",
    "- If keyword argument `prior=None`, prior samples are constructed using `num_bases` Random Fourier Features (RFF)"
   ]
  },
  {
   "cell_type": "code",
   "execution_count": 9,
   "metadata": {},
   "outputs": [
    {
     "name": "stdout",
     "output_type": "stream",
     "text": [
      "<class 'gpflow_sampling.sampling.core.DenseSampler'> <gpflow_sampling.sampling.core.DenseSampler object at 0x000001E940CBBA60>\n",
      "shape(f) = (2, 2024, 1)\n"
     ]
    }
   ],
   "source": [
    "paths = model.generate_paths(num_samples=2, num_bases=2024)  # returned paths are deterministic!\n",
    "f_orig = paths(Xnew)\n",
    "print(f\"shape(f) = {f_orig.shape}\")"
   ]
  },
  {
   "cell_type": "markdown",
   "metadata": {},
   "source": [
    "- Instance-level paths can be assigned using `model.set_paths(paths)` or `model.set_temporary_paths(paths)`\n",
    "- We often prefer to use `self.temporary_paths(...)`, which helps to ensure terms are automatically differentiable"
   ]
  },
  {
   "cell_type": "code",
   "execution_count": 10,
   "metadata": {},
   "outputs": [
    {
     "data": {
      "text/plain": [
       "<gpflow_sampling.sampling.core.CompositeSampler at 0x1e940cbb130>"
      ]
     },
     "execution_count": 10,
     "metadata": {},
     "output_type": "execute_result"
    }
   ],
   "source": [
    "model.set_paths(paths)\n"
   ]
  },
  {
   "cell_type": "code",
   "execution_count": 11,
   "metadata": {},
   "outputs": [
    {
     "data": {
      "text/plain": [
       "[<matplotlib.lines.Line2D at 0x1e942286a00>]"
      ]
     },
     "execution_count": 11,
     "metadata": {},
     "output_type": "execute_result"
    },
    {
     "data": {
      "image/png": "[encoded data removed]",
      "text/plain": [
       "<Figure size 700x300 with 1 Axes>"
      ]
     },
     "metadata": {},
     "output_type": "display_data"
    }
   ],
   "source": [
    "fig, ax = plt.subplots(figsize=(7, 3))\n",
    "\n",
    "f_plot = tf.squeeze(model.predict_f_samples(Xnew))\n",
    "\n",
    "\n",
    "# Plot some sample paths\n",
    "ax.scatter(X, y)\n",
    "ax.plot(Xnew, f_plot[0], alpha=0.5, linewidth=0.5, color='tab:blue')\n"
   ]
  },
  {
   "cell_type": "code",
   "execution_count": null,
   "metadata": {},
   "outputs": [],
   "source": []
  },
  {
   "cell_type": "code",
   "execution_count": null,
   "metadata": {},
   "outputs": [],
   "source": []
  }
 ],
 "metadata": {
  "kernelspec": {
   "display_name": "Python 3.8.0 64-bit",
   "language": "python",
   "name": "python3"
  },
  "language_info": {
   "codemirror_mode": {
    "name": "ipython",
    "version": 3
   },
   "file_extension": ".py",
   "mimetype": "text/x-python",
   "name": "python",
   "nbconvert_exporter": "python",
   "pygments_lexer": "ipython3",
   "version": "3.8.0"
  },
  "vscode": {
   "interpreter": {
    "hash": "2cb146a186d6c831a50e1e3de7bf25b139200ad67d600ef2b785072cd349345d"
   }
  }
 },
 "nbformat": 4,
 "nbformat_minor": 4
}
